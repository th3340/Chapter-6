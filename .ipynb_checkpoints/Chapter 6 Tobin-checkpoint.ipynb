{
 "cells": [
  {
   "cell_type": "markdown",
   "metadata": {},
   "source": [
    "Chapter 6 Hoffman Proggramer: Tobin Hoffman Notes for Chapter 6 dictionairies"
   ]
  },
  {
   "cell_type": "code",
   "execution_count": 1,
   "metadata": {},
   "outputs": [
    {
     "name": "stdout",
     "output_type": "stream",
     "text": [
      "green\n",
      "5\n"
     ]
    }
   ],
   "source": [
    "alien_0 = {'color': 'green', 'points': 5}\n",
    "print(alien_0['color'])\n",
    "print(alien_0['points'])"
   ]
  },
  {
   "cell_type": "code",
   "execution_count": 2,
   "metadata": {},
   "outputs": [],
   "source": [
    "alien_0 = {'color': 'green', 'points': 5}"
   ]
  },
  {
   "cell_type": "code",
   "execution_count": 3,
   "metadata": {},
   "outputs": [],
   "source": [
    "alien_0 = {'color': 'green'}"
   ]
  },
  {
   "cell_type": "code",
   "execution_count": 4,
   "metadata": {},
   "outputs": [
    {
     "name": "stdout",
     "output_type": "stream",
     "text": [
      "green\n"
     ]
    }
   ],
   "source": [
    "alien_0 = {'color': 'green'}\n",
    "print(alien_0['color'])"
   ]
  },
  {
   "cell_type": "code",
   "execution_count": 6,
   "metadata": {},
   "outputs": [
    {
     "name": "stdout",
     "output_type": "stream",
     "text": [
      "You just earned 5 points!\n"
     ]
    }
   ],
   "source": [
    "alien_0 = {'color': 'green', 'points': 5}\n",
    "new_points = alien_0['points']\n",
    "print(\"You just earned \" + str(new_points) + \" points!\")"
   ]
  },
  {
   "cell_type": "code",
   "execution_count": 7,
   "metadata": {},
   "outputs": [
    {
     "name": "stdout",
     "output_type": "stream",
     "text": [
      "{'color': 'green', 'points': 5}\n",
      "{'color': 'green', 'points': 5, 'x_position': 0, 'y_position': 25}\n"
     ]
    }
   ],
   "source": [
    "alien_0 = {'color': 'green', 'points': 5}\n",
    "print(alien_0)\n",
    "alien_0['x_position'] = 0\n",
    "alien_0['y_position'] = 25\n",
    "print(alien_0)"
   ]
  },
  {
   "cell_type": "code",
   "execution_count": 8,
   "metadata": {},
   "outputs": [
    {
     "name": "stdout",
     "output_type": "stream",
     "text": [
      "{'color': 'green', 'points': 5}\n"
     ]
    }
   ],
   "source": [
    "alien_0 = {}\n",
    "alien_0['color'] = 'green'\n",
    "alien_0['points'] = 5\n",
    "print(alien_0)"
   ]
  },
  {
   "cell_type": "code",
   "execution_count": 9,
   "metadata": {},
   "outputs": [
    {
     "name": "stdout",
     "output_type": "stream",
     "text": [
      "The alien is green.\n",
      "The alien is now yellow.\n"
     ]
    }
   ],
   "source": [
    "alien_0 = {'color': 'green'}\n",
    "print(\"The alien is \" + alien_0['color'] + \".\")\n",
    "alien_0['color'] = 'yellow'\n",
    "print(\"The alien is now \" + alien_0['color'] + \".\")"
   ]
  },
  {
   "cell_type": "code",
   "execution_count": 11,
   "metadata": {},
   "outputs": [
    {
     "name": "stdout",
     "output_type": "stream",
     "text": [
      "Original x-position: 0\n",
      "New x-position: 2\n"
     ]
    }
   ],
   "source": [
    "alien_0 = {'x_position': 0, 'y_position': 25, 'speed': 'medium'}\n",
    "print(\"Original x-position: \" + str(alien_0['x_position']))\n",
    "# Move the alien to the right.\n",
    "# Determine how far to move the alien based on its current speed.\n",
    "if alien_0['speed'] == 'slow':\n",
    "    x_increment = 1\n",
    "elif alien_0['speed'] == 'medium':\n",
    "    x_increment = 2\n",
    "else:\n",
    "    # This must be a fast alien.\n",
    "    x_increment = 3\n",
    "# The new position is the old position plus the increment.\n",
    "alien_0['x_position'] = alien_0['x_position'] + x_increment\n",
    "print(\"New x-position: \" + str(alien_0['x_position']))"
   ]
  },
  {
   "cell_type": "code",
   "execution_count": null,
   "metadata": {},
   "outputs": [],
   "source": []
  },
  {
   "cell_type": "code",
   "execution_count": 13,
   "metadata": {},
   "outputs": [
    {
     "name": "stdout",
     "output_type": "stream",
     "text": [
      "{'color': 'green', 'points': 5}\n",
      "{'color': 'green'}\n"
     ]
    }
   ],
   "source": [
    "alien_0 = {'color': 'green', 'points': 5}\n",
    "print(alien_0)\n",
    "del alien_0['points']\n",
    "print(alien_0)"
   ]
  },
  {
   "cell_type": "code",
   "execution_count": 14,
   "metadata": {},
   "outputs": [],
   "source": [
    "favorite_languages = {\n",
    "    'jen': 'python',\n",
    "    'sarah': 'c',\n",
    "    'edward': 'ruby',\n",
    "    'phil': 'python',\n",
    "    }"
   ]
  },
  {
   "cell_type": "code",
   "execution_count": 15,
   "metadata": {},
   "outputs": [
    {
     "name": "stdout",
     "output_type": "stream",
     "text": [
      "Sarah's favorite language is C.\n"
     ]
    }
   ],
   "source": [
    "print(\"Sarah's favorite language is \" +\n",
    "    favorite_languages['sarah'].title() +\n",
    "    \".\")"
   ]
  },
  {
   "cell_type": "code",
   "execution_count": 16,
   "metadata": {},
   "outputs": [],
   "source": [
    "tobin_info = {\n",
    "    'first' : 'Tobin',\n",
    "    'last' : 'Hoffman',\n",
    "    'age' : '15',\n",
    "    'city' : 'Tea',\n",
    "    }"
   ]
  },
  {
   "cell_type": "code",
   "execution_count": 22,
   "metadata": {},
   "outputs": [
    {
     "name": "stdout",
     "output_type": "stream",
     "text": [
      "tobins age is 15.\n"
     ]
    }
   ],
   "source": [
    "print(\"tobins age is \" +\n",
    "    tobin_info['age'].title() +\n",
    "    \".\")"
   ]
  },
  {
   "cell_type": "code",
   "execution_count": 21,
   "metadata": {},
   "outputs": [
    {
     "name": "stdout",
     "output_type": "stream",
     "text": [
      "Tobin lives in Tea.\n"
     ]
    }
   ],
   "source": [
    "print(\"Tobin lives in \" +\n",
    "    tobin_info['city'].title() +\n",
    "    \".\")"
   ]
  },
  {
   "cell_type": "code",
   "execution_count": 23,
   "metadata": {},
   "outputs": [],
   "source": [
    "data = {\n",
    "    'jen': '18',\n",
    "    'sarah': '69',\n",
    "    'edward': '45',\n",
    "    'phil': '420',\n",
    "    'tom' : '666',\n",
    "    }"
   ]
  },
  {
   "cell_type": "code",
   "execution_count": 24,
   "metadata": {},
   "outputs": [
    {
     "name": "stdout",
     "output_type": "stream",
     "text": [
      "Sarah's favorite number is in 69.\n"
     ]
    }
   ],
   "source": [
    "print(\"Sarah's favorite number is in \" +\n",
    "    data['sarah'].title() +\n",
    "    \".\")"
   ]
  },
  {
   "cell_type": "code",
   "execution_count": 25,
   "metadata": {},
   "outputs": [],
   "source": [
    "glossary = {\n",
    "    'interger': 'Intergers are numbers without a decimal point.',\n",
    "    'float': 'Floats are numbers a decimal point.',\n",
    "    'string': 'Strings are anything incased in two quotation marks.',\n",
    "    'loops': 'A loop is a group of words that repeat untill stopped.',\n",
    "    'list' : 'A list is a list of items that can be used as a variable',\n",
    "    }"
   ]
  },
  {
   "cell_type": "code",
   "execution_count": null,
   "metadata": {},
   "outputs": [],
   "source": []
  },
  {
   "cell_type": "code",
   "execution_count": 30,
   "metadata": {},
   "outputs": [
    {
     "name": "stdout",
     "output_type": "stream",
     "text": [
      "A List Is A List Of Items That Can Be Used As A Variable\n"
     ]
    }
   ],
   "source": [
    "print(glossary['list'].title())"
   ]
  },
  {
   "cell_type": "code",
   "execution_count": 31,
   "metadata": {},
   "outputs": [],
   "source": [
    "user_0 = {\n",
    "'username': 'efermi',\n",
    "'first': 'enrico',\n",
    "'last': 'fermi',\n",
    "}"
   ]
  },
  {
   "cell_type": "code",
   "execution_count": 32,
   "metadata": {},
   "outputs": [
    {
     "name": "stdout",
     "output_type": "stream",
     "text": [
      "\n",
      "Key: username\n",
      "Value: efermi\n",
      "\n",
      "Key: first\n",
      "Value: enrico\n",
      "\n",
      "Key: last\n",
      "Value: fermi\n"
     ]
    }
   ],
   "source": [
    "for key, value in user_0.items():\n",
    "    print(\"\\nKey: \" + key)\n",
    "    print(\"Value: \" + value)"
   ]
  },
  {
   "cell_type": "code",
   "execution_count": 33,
   "metadata": {},
   "outputs": [
    {
     "ename": "SyntaxError",
     "evalue": "invalid syntax (<ipython-input-33-d2eb5d58a289>, line 1)",
     "output_type": "error",
     "traceback": [
      "\u001b[1;36m  File \u001b[1;32m\"<ipython-input-33-d2eb5d58a289>\"\u001b[1;36m, line \u001b[1;32m1\u001b[0m\n\u001b[1;33m    for k, v in user_0.items()\u001b[0m\n\u001b[1;37m                              ^\u001b[0m\n\u001b[1;31mSyntaxError\u001b[0m\u001b[1;31m:\u001b[0m invalid syntax\n"
     ]
    }
   ],
   "source": [
    "for k, v in user_0.items()"
   ]
  },
  {
   "cell_type": "code",
   "execution_count": 34,
   "metadata": {},
   "outputs": [
    {
     "name": "stdout",
     "output_type": "stream",
     "text": [
      "Jen's favorite language is Python.\n",
      "Sarah's favorite language is C.\n",
      "Edward's favorite language is Ruby.\n",
      "Phil's favorite language is Python.\n"
     ]
    }
   ],
   "source": [
    "for name, language in favorite_languages.items():\n",
    "    print(name.title() + \"'s favorite language is \" +\n",
    "    language.title() + \".\")"
   ]
  },
  {
   "cell_type": "code",
   "execution_count": 35,
   "metadata": {},
   "outputs": [
    {
     "name": "stdout",
     "output_type": "stream",
     "text": [
      "Jen\n",
      "Sarah\n",
      "Edward\n",
      "Phil\n"
     ]
    }
   ],
   "source": [
    "for name in favorite_languages.keys():\n",
    "    print(name.title())"
   ]
  },
  {
   "cell_type": "code",
   "execution_count": 36,
   "metadata": {},
   "outputs": [
    {
     "ename": "SyntaxError",
     "evalue": "unexpected EOF while parsing (<ipython-input-36-6480afd4a396>, line 1)",
     "output_type": "error",
     "traceback": [
      "\u001b[1;36m  File \u001b[1;32m\"<ipython-input-36-6480afd4a396>\"\u001b[1;36m, line \u001b[1;32m1\u001b[0m\n\u001b[1;33m    for name in favorite_languages:\u001b[0m\n\u001b[1;37m                                   ^\u001b[0m\n\u001b[1;31mSyntaxError\u001b[0m\u001b[1;31m:\u001b[0m unexpected EOF while parsing\n"
     ]
    }
   ],
   "source": [
    "for name in favorite_languages:"
   ]
  },
  {
   "cell_type": "code",
   "execution_count": 38,
   "metadata": {},
   "outputs": [
    {
     "name": "stdout",
     "output_type": "stream",
     "text": [
      "Jen\n",
      "Sarah\n",
      " Hi Sarah, I see your favorite language is C!\n",
      "Edward\n",
      "Phil\n",
      " Hi Phil, I see your favorite language is Python!\n"
     ]
    }
   ],
   "source": [
    "favorite_languages = {\n",
    "    'jen': 'python',\n",
    "    'sarah': 'c',\n",
    "    'edward': 'ruby',\n",
    "    'phil': 'python',\n",
    "    }\n",
    "\n",
    "friends = ['phil', 'sarah']\n",
    "for name in favorite_languages.keys():\n",
    "    print(name.title())\n",
    "        \n",
    "    if name in friends:\n",
    "        print(\" Hi \" + name.title() +\n",
    "            \", I see your favorite language is \" +\n",
    "            favorite_languages[name].title() + \"!\")"
   ]
  },
  {
   "cell_type": "code",
   "execution_count": 39,
   "metadata": {},
   "outputs": [
    {
     "name": "stdout",
     "output_type": "stream",
     "text": [
      "Erin, please take our poll!\n"
     ]
    }
   ],
   "source": [
    "if 'erin' not in favorite_languages.keys():\n",
    "    print(\"Erin, please take our poll!\")"
   ]
  },
  {
   "cell_type": "code",
   "execution_count": 40,
   "metadata": {},
   "outputs": [
    {
     "name": "stdout",
     "output_type": "stream",
     "text": [
      "Edward, thank you for taking the poll.\n",
      "Jen, thank you for taking the poll.\n",
      "Phil, thank you for taking the poll.\n",
      "Sarah, thank you for taking the poll.\n"
     ]
    }
   ],
   "source": [
    "for name in sorted(favorite_languages.keys()):\n",
    "    print(name.title() + \", thank you for taking the poll.\")"
   ]
  },
  {
   "cell_type": "code",
   "execution_count": 45,
   "metadata": {},
   "outputs": [
    {
     "name": "stdout",
     "output_type": "stream",
     "text": [
      "The following languages have been mentioned:\n",
      "Python\n",
      "C\n",
      "Ruby\n",
      "Python\n",
      "Python\n",
      "C\n",
      "Ruby\n",
      "Python\n",
      "Python\n",
      "C\n",
      "Ruby\n",
      "Python\n"
     ]
    }
   ],
   "source": [
    "print(\"The following languages have been mentioned:\")\n",
    "for language in set(favorite_languages.values()):\n",
    "    for language in favorite_languages.values():\n",
    "        print(language.title())"
   ]
  },
  {
   "cell_type": "code",
   "execution_count": 42,
   "metadata": {},
   "outputs": [
    {
     "name": "stdout",
     "output_type": "stream",
     "text": [
      "Ruby\n",
      "Python\n",
      "C\n"
     ]
    }
   ],
   "source": [
    "for language in set(favorite_languages.values()):\n",
    "    print(language.title())"
   ]
  },
  {
   "cell_type": "code",
   "execution_count": 49,
   "metadata": {},
   "outputs": [
    {
     "name": "stdout",
     "output_type": "stream",
     "text": [
      "The following languages have been mentioned:\n",
      "Ruby\n",
      "Python\n",
      "C\n"
     ]
    }
   ],
   "source": [
    "favorite_languages = {\n",
    "    'jen': 'python',\n",
    "    'sarah': 'c',\n",
    "    'edward': 'ruby',\n",
    "    'phil': 'python',\n",
    "    }\n",
    "print(\"The following languages have been mentioned:\")\n",
    "for language in set(favorite_languages.values()):\n",
    "    print(language.title())"
   ]
  },
  {
   "cell_type": "code",
   "execution_count": null,
   "metadata": {},
   "outputs": [],
   "source": []
  }
 ],
 "metadata": {
  "kernelspec": {
   "display_name": "Python 3",
   "language": "python",
   "name": "python3"
  },
  "language_info": {
   "codemirror_mode": {
    "name": "ipython",
    "version": 3
   },
   "file_extension": ".py",
   "mimetype": "text/x-python",
   "name": "python",
   "nbconvert_exporter": "python",
   "pygments_lexer": "ipython3",
   "version": "3.7.4"
  }
 },
 "nbformat": 4,
 "nbformat_minor": 2
}
